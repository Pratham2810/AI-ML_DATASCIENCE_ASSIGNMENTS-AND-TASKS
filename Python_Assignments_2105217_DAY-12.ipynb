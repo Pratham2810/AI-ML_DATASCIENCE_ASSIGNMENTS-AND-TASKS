{
 "cells": [
  {
   "cell_type": "code",
   "execution_count": 1,
   "id": "65c7a468",
   "metadata": {},
   "outputs": [
    {
     "name": "stdout",
     "output_type": "stream",
     "text": [
      "Enter Lower bound:- 2\n",
      "Enter Upper bound:- 100\n",
      "\n",
      "\tYou've only  7  chances to guess the integer!\n",
      "\n",
      "Guess a number:- 35\n",
      "You guessed too small!\n",
      "Guess a number:- 86\n",
      "You Guessed too high!\n",
      "Guess a number:- 56\n",
      "You Guessed too high!\n",
      "Guess a number:- 41\n",
      "You guessed too small!\n",
      "Guess a number:- 44\n",
      "You guessed too small!\n",
      "Guess a number:- 46\n",
      "You guessed too small!\n",
      "Guess a number:- 50\n",
      "You Guessed too high!\n",
      "\n",
      "The number is 48\n",
      "\tBetter Luck Next time!\n"
     ]
    }
   ],
   "source": [
    "\n",
    "  #                                       Python Tasks – Day12 \n",
    "#1. Write a code to implement Guess Game \n",
    "\n",
    "# constraints / Rules \n",
    "\n",
    "# you have 5 chance to guess correct number which is chosen by computer / friend \n",
    "\n",
    "# Range which is allowed to select a number 1-50 \n",
    "\n",
    "# After each guess you should give some tips / hints to user to improve their chance of winning \n",
    "\n",
    "# for example, if user guess a number which is higher than actual number you should say `hint: think a low number! \n",
    "\n",
    "# If user guess a number which is lower than actual number, you should say `hint: think a big number! ` \n",
    "\n",
    "#       If user wins, we will show a congrats message and stop our game. \n",
    "\n",
    "#       If any time user guess is out of limit, then print a warning message saying Think in Limits 1-50 only! \n",
    "\n",
    "#       but we do not count this as a chance \n",
    "import random\n",
    "import math\n",
    "# Taking Inputs\n",
    "lower = int(input(\"Enter Lower bound:- \"))\n",
    " \n",
    "# Taking Inputs\n",
    "upper = int(input(\"Enter Upper bound:- \"))\n",
    " \n",
    "# generating random number between\n",
    "# the lower and upper\n",
    "x = random.randint(lower, upper)\n",
    "print(\"\\n\\tYou've only \",\n",
    "       round(math.log(upper - lower + 1, 2)),\n",
    "      \" chances to guess the integer!\\n\")\n",
    " \n",
    "# Initializing the number of guesses.\n",
    "count = 0\n",
    " \n",
    "# for calculation of minimum number of\n",
    "# guesses depends upon range\n",
    "while count < math.log(upper - lower + 1, 2):\n",
    "    count += 1\n",
    " \n",
    "    # taking guessing number as input\n",
    "    guess = int(input(\"Guess a number:- \"))\n",
    "    # Condition testing\n",
    "    if x == guess:\n",
    "        print(\"Congratulations you did it in \",\n",
    "              count, \" try\")\n",
    "        # Once guessed, loop will break\n",
    "        break\n",
    "    elif x > guess:\n",
    "        print(\"You guessed too small!\")\n",
    "    elif x < guess:\n",
    "        print(\"You Guessed too high!\")\n",
    " \n",
    "# If Guessing is more than required guesses,\n",
    "# shows this output.\n",
    "if count >= math.log(upper - lower + 1, 2):\n",
    "    print(\"\\nThe number is %d\" % x)\n",
    "    print(\"\\tBetter Luck Next time!\")"
   ]
  },
  {
   "cell_type": "code",
   "execution_count": 2,
   "id": "04983dc8",
   "metadata": {},
   "outputs": [
    {
     "name": "stdout",
     "output_type": "stream",
     "text": [
      "The sorted array: [1, 2, 2, 4, 5, 6, 9]\n"
     ]
    }
   ],
   "source": [
    "a = [2, 4, 2, 1, 9, 6, 5]\n",
    "\n",
    "for i in range(len(a)):\n",
    "    for j in range(len(a)-i-1):  # Corrected the inner loop condition\n",
    "        if a[j] > a[j+1]:\n",
    "            temp = a[j]\n",
    "            a[j] = a[j+1]\n",
    "            a[j+1] = temp\n",
    "\n",
    "print('The sorted array:', a)"
   ]
  },
  {
   "cell_type": "code",
   "execution_count": 3,
   "id": "e9f1bb75",
   "metadata": {},
   "outputs": [
    {
     "name": "stdout",
     "output_type": "stream",
     "text": [
      " 5\n",
      " 6\n",
      " 11\n",
      " 12\n",
      " 13\n"
     ]
    }
   ],
   "source": [
    "def insertionSort(arr):\n",
    " \n",
    "   \n",
    "    for i in range(1, len(arr)):\n",
    " \n",
    "        key = arr[i]\n",
    " \n",
    "        \n",
    "        j = i-1\n",
    "        while j >= 0 and key < arr[j] :\n",
    "                arr[j + 1] = arr[j]\n",
    "                j -= 1\n",
    "        arr[j + 1] = key\n",
    " \n",
    " \n",
    "\n",
    "arr = [12, 11, 13, 5, 6]\n",
    "insertionSort(arr)\n",
    "for i in range(len(arr)):\n",
    "    print (\"% d\" % arr[i])"
   ]
  },
  {
   "cell_type": "code",
   "execution_count": 4,
   "id": "1f9451bb",
   "metadata": {},
   "outputs": [
    {
     "name": "stdout",
     "output_type": "stream",
     "text": [
      "Sorted array: [11, 12, 22, 25, 64]\n"
     ]
    }
   ],
   "source": [
    "def selection_sort(arr):\n",
    "    n = len(arr)\n",
    "    \n",
    "    for i in range(n-1):\n",
    "        min_index = i\n",
    "        \n",
    "       \n",
    "        for j in range(i+1, n):\n",
    "            if arr[j] < arr[min_index]:\n",
    "                min_index = j\n",
    "        \n",
    "        \n",
    "        arr[i], arr[min_index] = arr[min_index], arr[i]\n",
    "    \n",
    "    return arr\n",
    "\n",
    "\n",
    "\n",
    "arr = [64, 25, 12, 22, 11]\n",
    "sorted_arr = selection_sort(arr)\n",
    "print(\"Sorted array:\", sorted_arr)\n"
   ]
  },
  {
   "cell_type": "code",
   "execution_count": 5,
   "id": "a472755e",
   "metadata": {},
   "outputs": [
    {
     "name": "stdout",
     "output_type": "stream",
     "text": [
      "Enter value of x: 1\n",
      "Enter value of y: 2\n",
      "Enter value of z: 3\n",
      "Enter the value of n: 4\n",
      "The coordinates are:\n",
      "[[0, 0, 0], [0, 0, 1], [0, 0, 2], [0, 0, 3], [0, 1, 0], [0, 1, 1], [0, 1, 2], [0, 2, 0], [0, 2, 1], [0, 2, 3], [1, 0, 0], [1, 0, 1], [1, 0, 2], [1, 1, 0], [1, 1, 1], [1, 1, 3], [1, 2, 0], [1, 2, 2], [1, 2, 3]]\n"
     ]
    }
   ],
   "source": [
    "#Q2. \n",
    "x=int(input(\"Enter value of x: \"))\n",
    "y=int(input(\"Enter value of y: \"))\n",
    "z=int(input(\"Enter value of z: \"))\n",
    "n=int(input(\"Enter the value of n: \"))\n",
    "cordinates=[[i,j,k] for i in range(x+1) for j in range(y+1) for k in range(z+1) if i+j+k!=n]\n",
    "print(\"The coordinates are:\")\n",
    "print(cordinates)"
   ]
  },
  {
   "cell_type": "code",
   "execution_count": 6,
   "id": "ef6787de",
   "metadata": {},
   "outputs": [
    {
     "name": "stdout",
     "output_type": "stream",
     "text": [
      "Enter no. of commands you want to enter3\n",
      "Enter your commands:\n",
      "1\n",
      "2\n",
      "3\n"
     ]
    }
   ],
   "source": [
    "# Q3.\n",
    "# Consider a list (list = []). You can perform the following commands:\n",
    "# 1) insert i e: Insert integer e at position i.\n",
    "# 2) print: Print the list.\n",
    "# 3) remove e: Delete the first occurrence of integer e.\n",
    "# 4) append e: Insert integer e at the end of the list.\n",
    "# 5) sort: Sort the list.\n",
    "# 6) pop: Pop the last element from the list.\n",
    "# 7) reverse: Reverse the list.\n",
    "# Initialize your list and read in the value of n followed by n lines of commands where each command \n",
    "# will be of the y types listed above. Iterate through each command in order and perform the corresponding\n",
    "# operation on your list.\n",
    "\n",
    "\n",
    "n=int(input(\"Enter no. of commands you want to enter\"))\n",
    "l=[]\n",
    "commands=[]\n",
    "i=0\n",
    "print(\"Enter your commands:\")\n",
    "while i<n:\n",
    "    entry=input().split()\n",
    "    commands.append(entry)\n",
    "    i+=1\n",
    "i=0\n",
    "while i<n:\n",
    "    rc=commands[i][0]\n",
    "    if rc=='insert':\n",
    "        l.insert(int(commands[i][1]),int(commands[i][2]))\n",
    "    elif rc=='print':\n",
    "        print(l)\n",
    "    elif rc=='remove':\n",
    "        l.remove(int(commands[i][1]))\n",
    "    elif rc=='append':\n",
    "        l.append(int(commands[i][1]))\n",
    "    elif rc=='sort':\n",
    "        l.sort()\n",
    "    elif rc=='pop':\n",
    "        l.pop()\n",
    "    elif rc=='reverse':\n",
    "        l.reverse()\n",
    "    i+=1\n"
   ]
  },
  {
   "cell_type": "markdown",
   "id": "d360414e",
   "metadata": {},
   "source": []
  },
  {
   "cell_type": "code",
   "execution_count": 7,
   "id": "59b28475",
   "metadata": {},
   "outputs": [
    {
     "name": "stdout",
     "output_type": "stream",
     "text": [
      "Enter the no. of student records you want to enter: 3\n",
      "Enter the records\n",
      "2\n",
      "5\n",
      "6\n",
      "Enter the key: 2\n"
     ]
    },
    {
     "ename": "IndexError",
     "evalue": "list index out of range",
     "output_type": "error",
     "traceback": [
      "\u001b[0;31m---------------------------------------------------------------------------\u001b[0m",
      "\u001b[0;31mIndexError\u001b[0m                                Traceback (most recent call last)",
      "\u001b[0;32m/tmp/ipykernel_8760/2528018060.py\u001b[0m in \u001b[0;36m<module>\u001b[0;34m\u001b[0m\n\u001b[1;32m     23\u001b[0m \u001b[0mkey\u001b[0m\u001b[0;34m=\u001b[0m\u001b[0minput\u001b[0m\u001b[0;34m(\u001b[0m\u001b[0;34m\"Enter the key: \"\u001b[0m\u001b[0;34m)\u001b[0m\u001b[0;34m\u001b[0m\u001b[0;34m\u001b[0m\u001b[0m\n\u001b[1;32m     24\u001b[0m \u001b[0mmarks\u001b[0m\u001b[0;34m=\u001b[0m\u001b[0mdic\u001b[0m\u001b[0;34m[\u001b[0m\u001b[0mkey\u001b[0m\u001b[0;34m]\u001b[0m\u001b[0;34m\u001b[0m\u001b[0;34m\u001b[0m\u001b[0m\n\u001b[0;32m---> 25\u001b[0;31m \u001b[0mavg\u001b[0m\u001b[0;34m=\u001b[0m\u001b[0;34m(\u001b[0m\u001b[0mint\u001b[0m\u001b[0;34m(\u001b[0m\u001b[0mmarks\u001b[0m\u001b[0;34m[\u001b[0m\u001b[0;36m0\u001b[0m\u001b[0;34m]\u001b[0m\u001b[0;34m)\u001b[0m\u001b[0;34m+\u001b[0m\u001b[0mint\u001b[0m\u001b[0;34m(\u001b[0m\u001b[0mmarks\u001b[0m\u001b[0;34m[\u001b[0m\u001b[0;36m1\u001b[0m\u001b[0;34m]\u001b[0m\u001b[0;34m)\u001b[0m\u001b[0;34m+\u001b[0m\u001b[0mint\u001b[0m\u001b[0;34m(\u001b[0m\u001b[0mmarks\u001b[0m\u001b[0;34m[\u001b[0m\u001b[0;36m2\u001b[0m\u001b[0;34m]\u001b[0m\u001b[0;34m)\u001b[0m\u001b[0;34m)\u001b[0m\u001b[0;34m/\u001b[0m\u001b[0;36m3.0\u001b[0m\u001b[0;34m\u001b[0m\u001b[0;34m\u001b[0m\u001b[0m\n\u001b[0m\u001b[1;32m     26\u001b[0m \u001b[0mprint\u001b[0m\u001b[0;34m(\u001b[0m\u001b[0;34m'Avg = %.2f'\u001b[0m\u001b[0;34m%\u001b[0m\u001b[0mavg\u001b[0m\u001b[0;34m)\u001b[0m\u001b[0;34m\u001b[0m\u001b[0;34m\u001b[0m\u001b[0m\n",
      "\u001b[0;31mIndexError\u001b[0m: list index out of range"
     ]
    }
   ],
   "source": [
    "# Q4. The provided code stub will read in a dictionary containing key/value pairs of name:[marks] for a list of students. Print the average of the marks array for the student name provided, showing 2 places after the decimal.\n",
    "\n",
    "# Sample Input:\n",
    "# 3\n",
    "# Krishna 67 68 69\n",
    "# Arjun 70 98 63\n",
    "# Malika 52 56 60\n",
    "# Malika\n",
    "\n",
    "# Sample Output:\n",
    "# 56.00\n",
    "\n",
    "dic={}\n",
    "n=int(input(\"Enter the no. of student records you want to enter: \"))\n",
    "print(\"Enter the records\")\n",
    "i=0\n",
    "while i<n:\n",
    "    entry=input().split()\n",
    "    key=entry[0]\n",
    "    entry.pop(0)\n",
    "    dic[key]=entry\n",
    "    i+=1\n",
    "key=input(\"Enter the key: \")\n",
    "marks=dic[key]\n",
    "avg=(int(marks[0])+int(marks[1])+int(marks[2]))/3.0\n",
    "print('Avg = %.2f'%avg)"
   ]
  },
  {
   "cell_type": "code",
   "execution_count": null,
   "id": "4cabcca2",
   "metadata": {},
   "outputs": [],
   "source": [
    "# Q5. Write a program to sort a list without using inbuilt functions (list.sort not allowed) \n",
    "\n",
    "# a)Using Bubble Sort Algorithm \n",
    "\n",
    "# b)Using Insertion Sort Algorithm  \n",
    "\n",
    "# c)Using Selection Sort Algorithm \n",
    "\n",
    "# Ans:- \n",
    "    \n",
    "# a)Using Bubble Sort Algorithm \n",
    "\n",
    "li=input(\"Enter the elements of list seperated by space: \").split()\n",
    "for i in range(len(li)):\n",
    "    li[i]=int(li[i])\n",
    "for i in range(len(li)-1):\n",
    "    for j in range(len(li)-1):\n",
    "        if(li[j]>li[j+1]):\n",
    "            temp=li[j]\n",
    "            li[j]=li[j+1]\n",
    "            li[j+1]=temp\n",
    "print(li)"
   ]
  }
 ],
 "metadata": {
  "kernelspec": {
   "display_name": "Python 3 (ipykernel)",
   "language": "python",
   "name": "python3"
  },
  "language_info": {
   "codemirror_mode": {
    "name": "ipython",
    "version": 3
   },
   "file_extension": ".py",
   "mimetype": "text/x-python",
   "name": "python",
   "nbconvert_exporter": "python",
   "pygments_lexer": "ipython3",
   "version": "3.10.6"
  }
 },
 "nbformat": 4,
 "nbformat_minor": 5
}
