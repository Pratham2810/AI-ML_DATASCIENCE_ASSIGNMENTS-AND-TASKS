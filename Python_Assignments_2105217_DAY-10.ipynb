{
 "cells": [
  {
   "cell_type": "code",
   "execution_count": 1,
   "id": "9451a477",
   "metadata": {},
   "outputs": [
    {
     "name": "stdout",
     "output_type": "stream",
     "text": [
      "Enter a number 121\n",
      "[1, 2, 1]\n",
      "3\n",
      "100\n",
      "20\n",
      "1\n",
      "Main Number = 121\n",
      "The reversed Number = 121\n",
      "The number is a Palindrome\n"
     ]
    }
   ],
   "source": [
    "# PALINDROME\n",
    "\n",
    "a=int(input(\"Enter a number \"))\n",
    "mainnumber=a\n",
    "frr=[]\n",
    "rrr=[]\n",
    "cnt=0\n",
    "while(a>0):\n",
    "    cnt+=1\n",
    "    r=a%10\n",
    "    frr.append(r)\n",
    "    a=a//10\n",
    "\n",
    "i=0\n",
    "b=0\n",
    "sum=0\n",
    "print(frr)\n",
    "print(cnt)\n",
    "a=cnt\n",
    "while(i<cnt):\n",
    "    b=i\n",
    "    print(frr[i]*(10**(cnt-b-1)))\n",
    "    sum+=frr[i]*(10**(cnt-b-1))\n",
    "    i+=1\n",
    "    b=a-1\n",
    "\n",
    "\n",
    "print(f\"Main Number = {mainnumber}\")\n",
    "print(f\"The reversed Number = {sum}\")\n",
    "\n",
    "if(mainnumber==sum):\n",
    "    print(\"The number is a Palindrome\")\n",
    "else:\n",
    "    print(\"The number is not a Palindrome\")"
   ]
  },
  {
   "cell_type": "code",
   "execution_count": 2,
   "id": "58923a91",
   "metadata": {},
   "outputs": [
    {
     "name": "stdout",
     "output_type": "stream",
     "text": [
      "Enter the starting number of the interval: 1\n",
      "Enter the ending number of the interval: 10\n",
      "Multiples of 3 and 5 within the interval:\n",
      "3\n",
      "5\n",
      "6\n",
      "9\n",
      "10\n"
     ]
    }
   ],
   "source": [
    "#MULTIPLES OF 3 AND 5 IN INTERVAL\n",
    "\n",
    "def print_multiples(start, end):\n",
    "    for num in range(start, end + 1):\n",
    "        if num % 3 == 0 or num % 5 == 0:\n",
    "            print(num)\n",
    "\n",
    "start_num = int(input(\"Enter the starting number of the interval: \"))\n",
    "end_num = int(input(\"Enter the ending number of the interval: \"))\n",
    "\n",
    "print(\"Multiples of 3 and 5 within the interval:\")\n",
    "print_multiples(start_num, end_num)"
   ]
  },
  {
   "cell_type": "code",
   "execution_count": 3,
   "id": "569b1a66",
   "metadata": {},
   "outputs": [
    {
     "name": "stdout",
     "output_type": "stream",
     "text": [
      "Enter a number: 10\n",
      "The factorial of 10 is: 3628800\n"
     ]
    }
   ],
   "source": [
    "#FACTORIAL OF A NUMBER\n",
    "def factorial(n):\n",
    "    if n == 0 or n == 1:\n",
    "        return 1\n",
    "    else:\n",
    "        return n * factorial(n - 1)\n",
    "\n",
    "num = int(input(\"Enter a number: \"))\n",
    "\n",
    "if num < 0:\n",
    "    print(\"Factorial is not defined for negative numbers.\")\n",
    "else:\n",
    "    result = factorial(num)\n",
    "    print(f\"The factorial of {num} is: {result}\")"
   ]
  },
  {
   "cell_type": "code",
   "execution_count": 4,
   "id": "da67a124",
   "metadata": {},
   "outputs": [
    {
     "name": "stdout",
     "output_type": "stream",
     "text": [
      "Enter the number of terms in the Fibonacci sequence: 121\n",
      "Fibonacci sequence:\n",
      "0 1 1 2 3 5 8 13 21 34 55 89 144 233 377 610 987 1597 2584 4181 6765 10946 17711 28657 46368 75025 121393 196418 317811 514229 832040 1346269 2178309 3524578 5702887 9227465 14930352 24157817 39088169 63245986 102334155 165580141 267914296 433494437 701408733 1134903170 1836311903 2971215073 4807526976 7778742049 12586269025 20365011074 32951280099 53316291173 86267571272 139583862445 225851433717 365435296162 591286729879 956722026041 1548008755920 2504730781961 4052739537881 6557470319842 10610209857723 17167680177565 27777890035288 44945570212853 72723460248141 117669030460994 190392490709135 308061521170129 498454011879264 806515533049393 1304969544928657 2111485077978050 3416454622906707 5527939700884757 8944394323791464 14472334024676221 23416728348467685 37889062373143906 61305790721611591 99194853094755497 160500643816367088 259695496911122585 420196140727489673 679891637638612258 1100087778366101931 1779979416004714189 2880067194370816120 4660046610375530309 7540113804746346429 12200160415121876738 19740274219868223167 31940434634990099905 51680708854858323072 83621143489848422977 135301852344706746049 218922995834555169026 354224848179261915075 573147844013817084101 927372692193078999176 1500520536206896083277 2427893228399975082453 3928413764606871165730 6356306993006846248183 10284720757613717413913 16641027750620563662096 26925748508234281076009 43566776258854844738105 70492524767089125814114 114059301025943970552219 184551825793033096366333 298611126818977066918552 483162952612010163284885 781774079430987230203437 1264937032042997393488322 2046711111473984623691759 3311648143516982017180081 5358359254990966640871840 "
     ]
    }
   ],
   "source": [
    "# FIBONACCI OF A NUMBER\n",
    "def fibonacci(n):\n",
    "    sequence = []\n",
    "    \n",
    "    if n == 0:\n",
    "        return sequence\n",
    "    \n",
    "    # First two numbers of the Fibonacci sequence\n",
    "    sequence.append(0)\n",
    "    if n == 1:\n",
    "        return sequence\n",
    "    \n",
    "    sequence.append(1)\n",
    "    \n",
    "    # Generate the remaining Fibonacci numbers\n",
    "    for i in range(2, n):\n",
    "        next_num = sequence[i - 1] + sequence[i - 2]\n",
    "        sequence.append(next_num)\n",
    "    \n",
    "    return sequence\n",
    "\n",
    "\n",
    "num_terms = int(input(\"Enter the number of terms in the Fibonacci sequence: \"))\n",
    "\n",
    "fib_sequence = fibonacci(num_terms)\n",
    "\n",
    "print(\"Fibonacci sequence:\")\n",
    "for num in fib_sequence:\n",
    "    print(num, end=\" \")"
   ]
  },
  {
   "cell_type": "code",
   "execution_count": 5,
   "id": "33c88d3e",
   "metadata": {},
   "outputs": [
    {
     "name": "stdout",
     "output_type": "stream",
     "text": [
      "Enter a number: 153\n",
      "153 is an Armstrong number.\n"
     ]
    }
   ],
   "source": [
    "# ARMSTRONG OF A NUMBER\n",
    "def is_armstrong(number):\n",
    "    # Convert the number to a string to access individual digits\n",
    "    num_str = str(number)\n",
    "    \n",
    "    # Calculate the number of digits in the number\n",
    "    num_digits = len(num_str)\n",
    "    \n",
    "    # Initialize the sum of the Armstrong number\n",
    "    armstrong_sum = 0\n",
    "    \n",
    "    # Calculate the sum of the cubes of each digit\n",
    "    for digit in num_str:\n",
    "        armstrong_sum += int(digit) ** num_digits\n",
    "    \n",
    "    # Check if the sum is equal to the original number\n",
    "    if armstrong_sum == number:\n",
    "        return True\n",
    "    else:\n",
    "        return False\n",
    "\n",
    "\n",
    "num = int(input(\"Enter a number: \"))\n",
    "\n",
    "if is_armstrong(num):\n",
    "    print(f\"{num} is an Armstrong number.\")\n",
    "else:\n",
    "    print(f\"{num} is not an Armstrong number.\")"
   ]
  },
  {
   "cell_type": "code",
   "execution_count": null,
   "id": "9b82e6fb",
   "metadata": {},
   "outputs": [],
   "source": []
  }
 ],
 "metadata": {
  "kernelspec": {
   "display_name": "Python 3 (ipykernel)",
   "language": "python",
   "name": "python3"
  },
  "language_info": {
   "codemirror_mode": {
    "name": "ipython",
    "version": 3
   },
   "file_extension": ".py",
   "mimetype": "text/x-python",
   "name": "python",
   "nbconvert_exporter": "python",
   "pygments_lexer": "ipython3",
   "version": "3.10.6"
  }
 },
 "nbformat": 4,
 "nbformat_minor": 5
}
