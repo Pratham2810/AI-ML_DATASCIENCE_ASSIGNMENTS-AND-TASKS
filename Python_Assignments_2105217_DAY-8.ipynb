{
 "cells": [
  {
   "cell_type": "code",
   "execution_count": 1,
   "id": "ec57feef",
   "metadata": {},
   "outputs": [],
   "source": [
    "# What are the two values of the Boolean data type? How do you write them? \n",
    "\n",
    "# The two values of the Boolean data type are True and False. \n",
    "# In Python, they are written exactly as shown, with the first \n",
    "# letter capitalized. Here's an example:\n",
    "\n",
    "boolean_value1 = True\n",
    "boolean_value2 = False\n",
    "\n",
    "# In the above code, boolean_value1 is assigned the value True, \n",
    "# and boolean_value2 is assigned the value False. These values are\n",
    "# used to represent logical truth (True) and logical \n",
    "# falsehood (False) in Boolean expressions and logical operations.\n"
   ]
  },
  {
   "cell_type": "code",
   "execution_count": 2,
   "id": "e0ea4977",
   "metadata": {},
   "outputs": [],
   "source": [
    "# The three Boolean operators in Python are:\n",
    "\n",
    "# \"and\" operator: Returns True if both operands are True, otherwise False.\n",
    "# \"or\" operator: Returns True if at least one operand is True, otherwise False.\n",
    "# \"not\" operator: Returns the opposite of the operand's Boolean value. If the operand is True, it returns False, and if the operand is False, it returns True.\n",
    "# These operators are used to perform logical operations on Boolean values or expressions.\n"
   ]
  },
  {
   "cell_type": "code",
   "execution_count": 3,
   "id": "ba4199c1",
   "metadata": {},
   "outputs": [],
   "source": [
    "# Here are the truth tables for each Boolean operator:\n",
    "\n",
    "# | Operand 1 | Operand 2 | Result |\n",
    "# |-----------|-----------|--------|\n",
    "# |   False   |   False   | False  |\n",
    "# |   False   |   True    | False  |\n",
    "# |   True    |   False   | False  |\n",
    "# |   True    |   True    | True   |\n",
    "\n",
    "\n",
    "# \"or\" operator:\n",
    "# | Operand 1 | Operand 2 | Result |\n",
    "# |-----------|-----------|--------|\n",
    "# |   False   |   False   | False  |\n",
    "# |   False   |   True    | True   |\n",
    "# |   True    |   False   | True   |\n",
    "# |   True    |   True    | True   |\n",
    "\n",
    "\n",
    "\n",
    "# \"not\" operator:\n",
    "# | Operand | Result |\n",
    "# |---------|--------|\n",
    "# |  False  |  True  |\n",
    "# |  True   | False  |"
   ]
  },
  {
   "cell_type": "code",
   "execution_count": 4,
   "id": "38716557",
   "metadata": {},
   "outputs": [
    {
     "name": "stdout",
     "output_type": "stream",
     "text": [
      "False\n",
      "False\n",
      "True\n",
      "False\n",
      "False\n",
      "True\n"
     ]
    }
   ],
   "source": [
    "print((5 > 4) and (3 == 5))                   # Output: False\n",
    "print(not (5 > 4))                            # Output: False\n",
    "print((5 > 4) or (3 == 5))                    # Output: True\n",
    "print(not ((5 > 4) or (3 == 5)))               # Output: False\n",
    "print((True and True) and (True == False))     # Output: False\n",
    "print((not False) or (not True))               # Output: True"
   ]
  },
  {
   "cell_type": "code",
   "execution_count": 5,
   "id": "3ecd7d1e",
   "metadata": {},
   "outputs": [],
   "source": [
    "# The six comparison operators in Python are:\n",
    "\n",
    "# Equal to: ==\n",
    "# It checks if two operands are equal and returns True if they are, otherwise False.\n",
    "\n",
    "# Not equal to: !=\n",
    "# It checks if two operands are not equal and returns True if they are not, otherwise False.\n",
    "\n",
    "# Greater than: >\n",
    "# It checks if the left operand is greater than the right operand and returns True if it is, otherwise False.\n",
    "\n",
    "# Less than: <\n",
    "# It checks if the left operand is less than the right operand and returns True if it is, otherwise False.\n",
    "\n",
    "# Greater than or equal to: >=\n",
    "# It checks if the left operand is greater than or equal to the right operand and returns True if it is, otherwise False.\n",
    "\n",
    "# Less than or equal to: <=\n",
    "# It checks if the left operand is less than or equal to the right operand and returns True if it is, otherwise False.\n",
    "\n",
    "# These comparison operators are used to compare values and make logical decisions based on the results."
   ]
  },
  {
   "cell_type": "code",
   "execution_count": 6,
   "id": "d43d8fee",
   "metadata": {},
   "outputs": [
    {
     "name": "stdout",
     "output_type": "stream",
     "text": [
      "False\n"
     ]
    }
   ],
   "source": [
    "# The equal to operator (==) and the assignment operator (=) have different purposes and behaviors in Python:\n",
    "\n",
    "# Equal to operator (==):\n",
    "# The equal to operator is a comparison operator used to check if two values are equal. It returns True if the values on both sides are equal, and False otherwise. For example:\n",
    "\n",
    "x = 5\n",
    "y = 7\n",
    "print(x == y)  # Output: False\n",
    "\n",
    "\n",
    "# Assignment operator (=):\n",
    "# The assignment operator is used to assign a value to a variable. It takes the value on the right side and assigns it to the variable on the left side. For example:\n",
    "x = 5\n",
    "y = x\n",
    "# In the above example, the value of x is assigned to y using the assignment operator. Here, the assignment operator does not check for equality but rather assigns the value.\n",
    "\n",
    "# In summary, the equal to operator (==) is used to compare values for equality, while the assignment operator (=) is used to assign a value to a variable."
   ]
  },
  {
   "cell_type": "code",
   "execution_count": 7,
   "id": "68eec53b",
   "metadata": {},
   "outputs": [
    {
     "name": "stdout",
     "output_type": "stream",
     "text": [
      "False\n"
     ]
    }
   ],
   "source": [
    "# The equal to operator (==) and the assignment operator (=) have different purposes and behaviors in Python:\n",
    "\n",
    "# Equal to operator (==):\n",
    "# The equal to operator is a comparison operator used to check if two values are equal. It returns True if the values on both sides are equal, and False otherwise. For example:\n",
    "\n",
    "x = 5\n",
    "y = 7\n",
    "print(x == y)  # Output: False\n",
    "\n",
    "\n",
    "# Assignment operator (=):\n",
    "# The assignment operator is used to assign a value to a variable. It takes the value on the right side and assigns it to the variable on the left side. For example:\n",
    "x = 5\n",
    "y = x\n",
    "# In the above example, the value of x is assigned to y using the assignment operator. Here, the assignment operator does not check for equality but rather assigns the value.\n",
    "\n",
    "# In summary, the equal to operator (==) is used to compare values for equality, while the assignment operator (=) is used to assign a value to a variable."
   ]
  },
  {
   "cell_type": "code",
   "execution_count": null,
   "id": "fc9966a9",
   "metadata": {},
   "outputs": [],
   "source": [
    "# In programming, a condition refers to a logical statement or expression that evaluates to either true or false. It is used to make decisions and control the flow of the program based on certain criteria. Conditions allow the program to execute different sets of instructions depending on whether the condition is true or false.\n",
    "\n",
    "# Conditions are typically used in control structures such as if statements, while loops, and for loops. Here are a few examples of where you would use a condition:\n",
    "\n",
    "\n",
    "x = 5\n",
    "if x > 0:\n",
    "    print(\"x is positive\")\n",
    "else:\n",
    "    print(\"x is non-positive\")\n",
    "\n",
    "\n",
    "\n",
    "count = 0\n",
    "while count < 5:\n",
    "    print(\"Count:\", count)\n",
    "    count += 1\n",
    "\n",
    "\n",
    "age = int(input(\"Enter your age: \"))\n",
    "if age >= 18:\n",
    "    print(\"You are eligible to vote.\")\n",
    "else:\n",
    "    print(\"You are not eligible to vote.\")"
   ]
  },
  {
   "cell_type": "code",
   "execution_count": null,
   "id": "98728191",
   "metadata": {},
   "outputs": [],
   "source": []
  }
 ],
 "metadata": {
  "kernelspec": {
   "display_name": "Python 3 (ipykernel)",
   "language": "python",
   "name": "python3"
  },
  "language_info": {
   "codemirror_mode": {
    "name": "ipython",
    "version": 3
   },
   "file_extension": ".py",
   "mimetype": "text/x-python",
   "name": "python",
   "nbconvert_exporter": "python",
   "pygments_lexer": "ipython3",
   "version": "3.10.6"
  }
 },
 "nbformat": 4,
 "nbformat_minor": 5
}
