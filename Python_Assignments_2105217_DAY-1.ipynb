{
 "cells": [
  {
   "cell_type": "code",
   "execution_count": 1,
   "id": "6e76ee08",
   "metadata": {},
   "outputs": [
    {
     "name": "stdout",
     "output_type": "stream",
     "text": [
      "Hello World\n",
      "Sum is: 50\n"
     ]
    }
   ],
   "source": [
    "#Q4. Create a Program and execute a script in Python  \n",
    "\n",
    "print(\"Hello World\") \n",
    "\n",
    "a = 45 \n",
    "\n",
    "b = 5 \n",
    "\n",
    "c = a+b \n",
    "\n",
    "print( \"Sum is:\", c) "
   ]
  },
  {
   "cell_type": "code",
   "execution_count": 2,
   "id": "3a8ba481",
   "metadata": {},
   "outputs": [],
   "source": [
    "#  Q3.List Python Libraries Used in Different IT Domains\n",
    "\n",
    "#   Ans:- Pandas, numpy, matplotlib, tkinter, sklearn, tensorflow."
   ]
  },
  {
   "cell_type": "code",
   "execution_count": 3,
   "id": "4782fdb3",
   "metadata": {},
   "outputs": [],
   "source": [
    "#  Q2.List Some Mega Projects Hosted in Python.\n",
    "\n",
    "#   Ans:- a)Database Projects: Management Systems (Library, Hotel, Hospital, School) b)ML Projects: Classification c)AI Projects: Chatbots, face detection and recognition, speech recognition, Security d)Data Science Projects: Global Terrorism Analysis, Call Data Record Analysi"
   ]
  },
  {
   "cell_type": "code",
   "execution_count": null,
   "id": "4ed3b2f6",
   "metadata": {},
   "outputs": [],
   "source": [
    "#  Q1.Install Python on your Local Operating System\n",
    "\n",
    "#   a)https://youtu.be/M5ILgNI0iXw (python installation)\n",
    "\n",
    "#   b)https://youtu.be/SBOFnzVuzOE (vim Editor)"
   ]
  }
 ],
 "metadata": {
  "kernelspec": {
   "display_name": "Python 3 (ipykernel)",
   "language": "python",
   "name": "python3"
  },
  "language_info": {
   "codemirror_mode": {
    "name": "ipython",
    "version": 3
   },
   "file_extension": ".py",
   "mimetype": "text/x-python",
   "name": "python",
   "nbconvert_exporter": "python",
   "pygments_lexer": "ipython3",
   "version": "3.10.6"
  }
 },
 "nbformat": 4,
 "nbformat_minor": 5
}
