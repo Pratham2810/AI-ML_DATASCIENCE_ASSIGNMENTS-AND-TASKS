{
 "cells": [
  {
   "cell_type": "code",
   "execution_count": 1,
   "id": "2b51a4e8",
   "metadata": {},
   "outputs": [
    {
     "data": {
      "text/plain": [
       "'Write a Python program to check whether a number is negative, positive or zero.\\nWrite a Python program to check whether a number is divisible by 5 and 11 or not.\\nWrite a Python program to check whether a year is leap-year or not.\\nWrite a Python program to check whether a character is alphabet or not.\\nWrite a Python program to input any alphabet and check whether it is vowel or consonant.\\nWrite a Python program to input any character and check whether it is alphabet, digit or special character.\\nWrite a Python program to check whether a character is uppercase or lowercase alphabet.\\nWrite a Python program to input week number and print weekday.\\nWrite a Python program to input angles of a triangle and check whether triangle is valid or not.\\nWrite a Python program to input all sides of a triangle and check whether triangle is valid or not.\\nWrite a Python program to check whether the triangle is equilateral, isosceles or scalene triangle.\\nWrite a Python program to input marks of five subjects Physics, Chemistry, Biology, Mathematics and Computer. Calculate percentage and grade according to following:\\nPercentage >= 90%: Grade A\\nPercentage >= 80%: Grade B\\nPercentage >= 70%: Grade C\\nPercentage >= 60%: Grade D\\nPercentage >= 40%: Grade E\\nPercentage < 40%: Grade F\\nWrite a Python program to input basic salary of an employee and calculate its Gross salary according to following:\\nBasic Salary <= 10000: HRA = 20%, DA = 80%\\nBasic Salary <= 20000: HRA = 25%, DA = 90%\\nBasic Salary > 20000: HRA = 30%, DA = 95%\\nWrite a Python Program to input electricity unit charges and calculate total electricity bill according to the given condition:\\nFor first 50 units Rs. 0.50/unit\\nFor next 100 units Rs. 0.75/unit\\nFor next 100 units Rs. 1.20/unit\\nFor unit above 250 Rs. 1.50/unit\\nAn additional surcharge of 20% is added to the bill\\n'"
      ]
     },
     "execution_count": 1,
     "metadata": {},
     "output_type": "execute_result"
    }
   ],
   "source": [
    "\"\"\"Write a Python program to check whether a number is negative, positive or zero.\n",
    "Write a Python program to check whether a number is divisible by 5 and 11 or not.\n",
    "Write a Python program to check whether a year is leap-year or not.\n",
    "Write a Python program to check whether a character is alphabet or not.\n",
    "Write a Python program to input any alphabet and check whether it is vowel or consonant.\n",
    "Write a Python program to input any character and check whether it is alphabet, digit or special character.\n",
    "Write a Python program to check whether a character is uppercase or lowercase alphabet.\n",
    "Write a Python program to input week number and print weekday.\n",
    "Write a Python program to input angles of a triangle and check whether triangle is valid or not.\n",
    "Write a Python program to input all sides of a triangle and check whether triangle is valid or not.\n",
    "Write a Python program to check whether the triangle is equilateral, isosceles or scalene triangle.\n",
    "Write a Python program to input marks of five subjects Physics, Chemistry, Biology, Mathematics and Computer. Calculate percentage and grade according to following:\n",
    "Percentage >= 90%: Grade A\n",
    "Percentage >= 80%: Grade B\n",
    "Percentage >= 70%: Grade C\n",
    "Percentage >= 60%: Grade D\n",
    "Percentage >= 40%: Grade E\n",
    "Percentage < 40%: Grade F\n",
    "Write a Python program to input basic salary of an employee and calculate its Gross salary according to following:\n",
    "Basic Salary <= 10000: HRA = 20%, DA = 80%\n",
    "Basic Salary <= 20000: HRA = 25%, DA = 90%\n",
    "Basic Salary > 20000: HRA = 30%, DA = 95%\n",
    "Write a Python Program to input electricity unit charges and calculate total electricity bill according to the given condition:\n",
    "For first 50 units Rs. 0.50/unit\n",
    "For next 100 units Rs. 0.75/unit\n",
    "For next 100 units Rs. 1.20/unit\n",
    "For unit above 250 Rs. 1.50/unit\n",
    "An additional surcharge of 20% is added to the bill\n",
    "\"\"\""
   ]
  },
  {
   "cell_type": "code",
   "execution_count": 2,
   "id": "fa40a869",
   "metadata": {},
   "outputs": [
    {
     "name": "stdout",
     "output_type": "stream",
     "text": [
      "Enter a number 0\n",
      "0 = 0 is Zero\n"
     ]
    }
   ],
   "source": [
    "a=int(input(\"Enter a number \"))\n",
    "if(a>0):\n",
    "    print(f\"{a} is POSITIVE\")\n",
    "elif(a<0):\n",
    "    print(f\"{a} is NEGATIVE\")\n",
    "else:\n",
    "    print(f\"{a} = 0 is Zero\")"
   ]
  },
  {
   "cell_type": "code",
   "execution_count": 3,
   "id": "282b0710",
   "metadata": {},
   "outputs": [
    {
     "name": "stdout",
     "output_type": "stream",
     "text": [
      "Enter a number: 5\n",
      "Not divisible by 5 and 11\n",
      "-----------------------\n"
     ]
    }
   ],
   "source": [
    "number = int(input(\"Enter a number: \"))\n",
    "\n",
    "if number % 5 == 0 and number % 11 == 0:\n",
    "    print(\"Divisible by 5 and 11\")\n",
    "else:\n",
    "    print(\"Not divisible by 5 and 11\")\n",
    "\n",
    "print(\"-----------------------\")"
   ]
  },
  {
   "cell_type": "code",
   "execution_count": 4,
   "id": "6e46e272",
   "metadata": {},
   "outputs": [
    {
     "name": "stdout",
     "output_type": "stream",
     "text": [
      "Enter a year: 2004\n",
      "Leap year\n",
      "-----------------------\n"
     ]
    }
   ],
   "source": [
    "\n",
    "year = int(input(\"Enter a year: \"))\n",
    "\n",
    "if year % 4 == 0 and (year % 100 != 0 or year % 400 == 0):\n",
    "    print(\"Leap year\")\n",
    "else:\n",
    "    print(\"Not a leap year\")\n",
    "\n",
    "print(\"-----------------------\")"
   ]
  },
  {
   "cell_type": "code",
   "execution_count": 6,
   "id": "55faebe9",
   "metadata": {},
   "outputs": [
    {
     "name": "stdout",
     "output_type": "stream",
     "text": [
      "Enter a character: A\n",
      "Alphabet\n",
      "-----------------------\n"
     ]
    }
   ],
   "source": [
    "\n",
    "character = input(\"Enter a character: \")\n",
    "\n",
    "if character.isalpha():\n",
    "    print(\"Alphabet\")\n",
    "else:\n",
    "    print(\"Not an alphabet\")\n",
    "\n",
    "print(\"-----------------------\")"
   ]
  },
  {
   "cell_type": "code",
   "execution_count": 7,
   "id": "f68cf809",
   "metadata": {},
   "outputs": [
    {
     "name": "stdout",
     "output_type": "stream",
     "text": [
      "Enter an alphabet: a\n",
      "Vowel\n",
      "-----------------------\n"
     ]
    }
   ],
   "source": [
    "alphabet = input(\"Enter an alphabet: \").lower()\n",
    "\n",
    "if alphabet in ['a', 'e', 'i', 'o', 'u']:\n",
    "    print(\"Vowel\")\n",
    "else:\n",
    "    print(\"Consonant\")\n",
    "\n",
    "print(\"-----------------------\")"
   ]
  },
  {
   "cell_type": "code",
   "execution_count": null,
   "id": "16f2bdcf",
   "metadata": {},
   "outputs": [],
   "source": [
    "character = input(\"Enter a character: \")\n",
    "\n",
    "if character.isalpha():\n",
    "    print(\"Alphabet\")\n",
    "elif character.isdigit():\n",
    "    print(\"Digit\")\n",
    "else:\n",
    "    print(\"Special character\")\n",
    "\n",
    "print(\"-----------------------\")"
   ]
  },
  {
   "cell_type": "code",
   "execution_count": null,
   "id": "a4b1eb88",
   "metadata": {},
   "outputs": [],
   "source": []
  },
  {
   "cell_type": "code",
   "execution_count": null,
   "id": "6296e275",
   "metadata": {},
   "outputs": [],
   "source": [
    "character = input(\"Enter a character: \")\n",
    "\n",
    "if character.isupper():\n",
    "    print(\"Uppercase alphabet\")\n",
    "elif character.islower():\n",
    "    print(\"Lowercase alphabet\")\n",
    "else:\n",
    "    print(\"Not an alphabet\")\n",
    "\n",
    "print(\"-----------------------\")"
   ]
  },
  {
   "cell_type": "code",
   "execution_count": null,
   "id": "30e7b506",
   "metadata": {},
   "outputs": [],
   "source": []
  },
  {
   "cell_type": "code",
   "execution_count": null,
   "id": "207e2033",
   "metadata": {},
   "outputs": [],
   "source": [
    "week_number = int(input(\"Enter the week number (1-7): \"))\n",
    "\n",
    "if week_number == 1:\n",
    "    print(\"Monday\")\n",
    "elif week_number == 2:\n",
    "    print(\"Tuesday\")\n",
    "elif week_number == 3:\n",
    "    print(\"Wednesday\")\n",
    "elif week_number == 4:\n",
    "    print(\"Thursday\")\n",
    "elif week_number == 5:\n",
    "    print(\"Friday\")\n",
    "elif week_number == 6:\n",
    "    print(\"Saturday\")\n",
    "elif week_number == 7:\n",
    "    print(\"Sunday\")\n",
    "else:\n",
    "    print(\"Invalid week number\")\n",
    "\n",
    "print(\"-----------------------\")"
   ]
  },
  {
   "cell_type": "code",
   "execution_count": null,
   "id": "6dd00001",
   "metadata": {},
   "outputs": [],
   "source": [
    "angle1 = float(input(\"Enter the first angle: \"))\n",
    "angle2 = float(input(\"Enter the second angle: \"))\n",
    "angle3 = float(input(\"Enter the third angle: \"))\n",
    "\n",
    "if angle1 + angle2 + angle3 == 180:\n",
    "    print(\"Valid triangle\")\n",
    "else:\n",
    "    print(\"Invalid triangle\")\n",
    "\n",
    "print(\"-----------------------\")"
   ]
  },
  {
   "cell_type": "code",
   "execution_count": null,
   "id": "feaa6446",
   "metadata": {},
   "outputs": [],
   "source": [
    "alphabet = input(\"Enter an alphabet: \").lower()\n",
    "\n",
    "if alphabet in ['a', 'e', 'i', 'o', 'u']:\n",
    "    print(\"Vowel\")\n",
    "else:\n",
    "    print(\"Consonant\")\n"
   ]
  },
  {
   "cell_type": "code",
   "execution_count": null,
   "id": "51d48acf",
   "metadata": {},
   "outputs": [],
   "source": []
  }
 ],
 "metadata": {
  "kernelspec": {
   "display_name": "Python 3 (ipykernel)",
   "language": "python",
   "name": "python3"
  },
  "language_info": {
   "codemirror_mode": {
    "name": "ipython",
    "version": 3
   },
   "file_extension": ".py",
   "mimetype": "text/x-python",
   "name": "python",
   "nbconvert_exporter": "python",
   "pygments_lexer": "ipython3",
   "version": "3.10.6"
  }
 },
 "nbformat": 4,
 "nbformat_minor": 5
}
