{
 "cells": [
  {
   "cell_type": "code",
   "execution_count": 1,
   "id": "82c6cf5a",
   "metadata": {},
   "outputs": [],
   "source": [
    "# Difference between shallow copy and deep copy:\n",
    "\n",
    "# Shallow Copy: A shallow copy creates a new object and then copies the reference of the original elements to the new object. In other words, it creates a new object with the same memory addresses as the original object. Changes made to the original object will be reflected in the shallow copy, and vice versa. Shallow copy is performed using the copy() method.\n",
    "\n",
    "# Deep Copy: A deep copy creates a completely independent copy of the original object and all its nested objects. It means that changes made to the original object will not affect the deep copy, and vice versa. Deep copy is performed using the deepcopy() method from the copy module.\n"
   ]
  },
  {
   "cell_type": "code",
   "execution_count": 2,
   "id": "09c45022",
   "metadata": {},
   "outputs": [],
   "source": [
    "# Library management application data storage using lists:\n",
    "# To store data about books and students in a library management application, you can use lists in Python. Here's an example of how you can store information about books and students using lists:\n",
    "\n",
    "\n",
    "# Storing book information\n",
    "books = [\n",
    "    {\"title\": \"Book 1\", \"author\": \"Author 1\", \"year\": 2021},\n",
    "    {\"title\": \"Book 2\", \"author\": \"Author 2\", \"year\": 2022},\n",
    "    {\"title\": \"Book 3\", \"author\": \"Author 3\", \"year\": 2023}\n",
    "]\n",
    "\n",
    "# Storing student information\n",
    "students = [\n",
    "    {\"name\": \"Student 1\", \"id\": 1001, \"age\": 20},\n",
    "    {\"name\": \"Student 2\", \"id\": 1002, \"age\": 21},\n",
    "    {\"name\": \"Student 3\", \"id\": 1003, \"age\": 22}\n",
    "]\n",
    "\n",
    "\n",
    "# In the above example, the books list stores dictionaries containing information about books, including title, author, and year. Similarly, the students list stores dictionaries with student information such as name, ID, and age."
   ]
  },
  {
   "cell_type": "code",
   "execution_count": 3,
   "id": "b8e2f772",
   "metadata": {},
   "outputs": [],
   "source": [
    "# Difference between an expression and a statement:\n",
    "\n",
    "# Expression: An expression is a combination of variables, values, and operators that evaluates to a single value. It can be as simple as a single variable or a complex combination of multiple variables and operators. Examples of expressions include 5 + 3, x * y, or 2 > 1.\n",
    "\n",
    "# Statement: A statement is a complete line of code that performs some action or operation. It is a syntactic unit that expresses a command or an action to be executed. Statements can contain expressions but are not limited to expressions. Examples of statements include variable assignments (spam = 10), function calls, control flow statements (if-else, loops), and more.\n",
    "\n",
    "# Atomic data types / Primary data types:\n",
    "\n",
    "# Atomic data types, also known as primary data types, are the basic building blocks of a programming language. They are the simplest and indivisible data types that represent fundamental values. In Python, some examples of atomic data types or primary data types are:\n",
    "\n",
    "# Integer: Represents whole numbers, e.g., 5, -10, 1000.\n",
    "\n",
    "# Float: Represents decimal numbers, e.g., 3.14, -2.5, 1.0.\n",
    "\n",
    "# Boolean: Represents either true or false.\n",
    "\n",
    "# String: Represents a sequence of characters, e.g., \"Hello\", \"Python\", \"123\".\n",
    "\n",
    "# Secondary data type / User Defined Data Type:\n",
    "\n",
    "# Secondary data types, also known as user-defined data types, are data types that are created by the user or programmer by combining atomic data types. They are built using the primary data types and can represent more complex and structured data. Examples of secondary data types include:\n",
    "\n",
    "# Lists: An ordered collection of elements, which can be of different data types.\n",
    "\n",
    "# Tuples: An ordered collection of elements, similar to lists but immutable (cannot be modified).\n",
    "\n",
    "# Dictionaries: A collection of key-value pairs, where each value is associated with a unique key.\n",
    "\n",
    "# Sets: An unordered collection of unique elements.\n",
    "\n",
    "# UDF stands for User-Defined Function. In Python, a UDF is a block of reusable code that performs a specific task. It allows you to define your own functions with custom logic to perform operations and return results. UDFs provide modularity and code reusability, as they can be called and executed multiple times within a program. You can define UDFs using the def keyword followed by a function name, input parameters, and the code block.\n"
   ]
  },
  {
   "cell_type": "code",
   "execution_count": 4,
   "id": "6cec069e",
   "metadata": {},
   "outputs": [],
   "source": [
    "# UDF stands for User-Defined Function. In Python, a UDF is a block of reusable code that performs a specific task. It allows you to define your own functions with custom logic to perform operations and return results. UDFs provide modularity and code reusability, as they can be called and executed multiple times within a program. You can define UDFs using the def keyword followed by a function name, input parameters, and the code block."
   ]
  },
  {
   "cell_type": "code",
   "execution_count": null,
   "id": "4c3b705c",
   "metadata": {},
   "outputs": [],
   "source": []
  }
 ],
 "metadata": {
  "kernelspec": {
   "display_name": "Python 3 (ipykernel)",
   "language": "python",
   "name": "python3"
  },
  "language_info": {
   "codemirror_mode": {
    "name": "ipython",
    "version": 3
   },
   "file_extension": ".py",
   "mimetype": "text/x-python",
   "name": "python",
   "nbconvert_exporter": "python",
   "pygments_lexer": "ipython3",
   "version": "3.10.6"
  }
 },
 "nbformat": 4,
 "nbformat_minor": 5
}
