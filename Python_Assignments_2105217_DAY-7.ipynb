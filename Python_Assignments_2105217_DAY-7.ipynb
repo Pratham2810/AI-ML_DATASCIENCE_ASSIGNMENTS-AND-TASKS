{
 "cells": [
  {
   "cell_type": "code",
   "execution_count": 1,
   "id": "d7b2935a",
   "metadata": {},
   "outputs": [
    {
     "name": "stdout",
     "output_type": "stream",
     "text": [
      "x is positive\n",
      "Count: 0\n",
      "Count: 1\n",
      "Count: 2\n",
      "Count: 3\n",
      "Count: 4\n",
      "Enter your age: 18\n",
      "You are eligible to vote.\n"
     ]
    }
   ],
   "source": [
    "# In programming, a condition refers to a logical statement or expression that evaluates to either true or false. It is used to make decisions and control the flow of the program based on certain criteria. Conditions allow the program to execute different sets of instructions depending on whether the condition is true or false.\n",
    "\n",
    "# Conditions are typically used in control structures such as if statements, while loops, and for loops. Here are a few examples of where you would use a condition:\n",
    "\n",
    "\n",
    "x = 5\n",
    "if x > 0:\n",
    "    print(\"x is positive\")\n",
    "else:\n",
    "    print(\"x is non-positive\")\n",
    "\n",
    "\n",
    "\n",
    "count = 0\n",
    "while count < 5:\n",
    "    print(\"Count:\", count)\n",
    "    count += 1\n",
    "\n",
    "\n",
    "age = int(input(\"Enter your age: \"))\n",
    "if age >= 18:\n",
    "    print(\"You are eligible to vote.\")\n",
    "else:\n",
    "    print(\"You are not eligible to vote.\")"
   ]
  },
  {
   "cell_type": "code",
   "execution_count": null,
   "id": "a0848793",
   "metadata": {},
   "outputs": [],
   "source": []
  }
 ],
 "metadata": {
  "kernelspec": {
   "display_name": "Python 3 (ipykernel)",
   "language": "python",
   "name": "python3"
  },
  "language_info": {
   "codemirror_mode": {
    "name": "ipython",
    "version": 3
   },
   "file_extension": ".py",
   "mimetype": "text/x-python",
   "name": "python",
   "nbconvert_exporter": "python",
   "pygments_lexer": "ipython3",
   "version": "3.10.6"
  }
 },
 "nbformat": 4,
 "nbformat_minor": 5
}
