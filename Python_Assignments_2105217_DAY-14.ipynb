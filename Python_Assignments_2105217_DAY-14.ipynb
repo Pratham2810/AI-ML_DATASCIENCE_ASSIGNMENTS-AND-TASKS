{
 "cells": [
  {
   "cell_type": "code",
   "execution_count": 1,
   "id": "7eac690b",
   "metadata": {},
   "outputs": [
    {
     "name": "stdout",
     "output_type": "stream",
     "text": [
      "Enter number: 40\n",
      "Step-1 Sum: 4\n"
     ]
    }
   ],
   "source": [
    "#1.Program to find the sum of digits of a number until the sum is reduced to 1 digit. \n",
    "number = int(input(\"Enter number: \"))\n",
    "\n",
    "# Finding sum\n",
    "total_sum = 0\n",
    "step = 1\n",
    "\n",
    "condition = True\n",
    "\n",
    "while condition:\n",
    "    \n",
    "    while number:\n",
    "        total_sum += number%10\n",
    "        number //= 10\n",
    "    \n",
    "    print(\"Step-%d Sum: %d\" %(step, total_sum))\n",
    "    number = total_sum\n",
    "    total_sum = 0\n",
    "    step += 1\n",
    "    condition = number > 9"
   ]
  },
  {
   "cell_type": "code",
   "execution_count": 2,
   "id": "19a5ea45",
   "metadata": {},
   "outputs": [
    {
     "name": "stdout",
     "output_type": "stream",
     "text": [
      "Enter the first number: 2\n",
      "Enter the second number: 43\n",
      "First Number is:  2\n",
      "Second Number is:  43\n",
      "HCF of the numbers is:  1\n",
      "LCM of the two numbers is:  86\n"
     ]
    }
   ],
   "source": [
    "#2.Program to find LCM and HCF of two numbers. \n",
    "a = int(input(\"Enter the first number: \"))\n",
    "b = int(input(\"Enter the second number: \"))\n",
    "\n",
    "HCF = 1\n",
    "\n",
    "for i in range(2,a+1):\n",
    "    if(a%i==0 and b%i==0):\n",
    "        HCF = i\n",
    "\n",
    "print(\"First Number is: \",a)\n",
    "print(\"Second Number is: \",b)\n",
    "print(\"HCF of the numbers is: \",HCF)\n",
    "LCM = int((a*b)/(HCF))\n",
    "print(\"LCM of the two numbers is: \",LCM)"
   ]
  },
  {
   "cell_type": "code",
   "execution_count": 3,
   "id": "0baf14f4",
   "metadata": {},
   "outputs": [
    {
     "name": "stdout",
     "output_type": "stream",
     "text": [
      "Enter the value of n: 4\n",
      "cube of all numbers from 1 to 4 which are divisible by 3 are:\n",
      "27\n"
     ]
    }
   ],
   "source": [
    "#3.\n",
    "# Write a program to accept any number n and print the cube of all numbers from 1 to n which are divisible by 3.\n",
    "# Rewrite the program using a continue statement. \n",
    "\n",
    "n=int(input(\"Enter the value of n: \"))\n",
    "print(f\"cube of all numbers from 1 to {n} which are divisible by 3 are:\")\n",
    "for i in range(1,n):\n",
    "    if(i%3!=0):\n",
    "        continue\n",
    "    print(i**3)\n"
   ]
  },
  {
   "cell_type": "code",
   "execution_count": null,
   "id": "5b9ed872",
   "metadata": {},
   "outputs": [
    {
     "name": "stdout",
     "output_type": "stream",
     "text": [
      "Enter the roll no. and marks of 10 strudents respectively:\n",
      "Student 1:\n",
      "   Enter roll No.: 2105217\n",
      "Roll no. range not valid. Enter again.\n",
      "Student 1:\n"
     ]
    }
   ],
   "source": [
    "#4.Write a program to read roll numbers and marks of 10 students in 3 subjects. \n",
    "# The valid range for roll number is 1000-9999, if the roll number entered is not in this range, \n",
    "# the user should be asked to enter again. Calculate total marks of only those students who get \n",
    "# more than or equal to 40 marks in each subject. Count the number of students whose total is more than 200.\n",
    "# Print the roll number of the students who get the highest total. \n",
    "\n",
    "i=1\n",
    "print(\"Enter the roll no. and marks of 10 strudents respectively:\")\n",
    "roll=[]\n",
    "DSA=[]\n",
    "OOP=[]\n",
    "WT=[]\n",
    "total=[]\n",
    "while i<11:\n",
    "    print(f\"Student {i}:\")\n",
    "    r=int(input(\"   Enter roll No.: \"))\n",
    "    if(r<1000 or r>9999):\n",
    "        print(\"Roll no. range not valid. Enter again.\")\n",
    "        continue\n",
    "    print(\"   Enter marks of:\")\n",
    "    m1=int(input(\"     DSA = \"))\n",
    "    m2=int(input(\"     OOP = \"))\n",
    "    m3=int(input(\"     WT = \"))\n",
    "    roll.append(r)\n",
    "    DSA.append(m1)\n",
    "    OOP.append(m2)\n",
    "    WT.append(m3)\n",
    "    if(m1<40 or m2<40 or m3<40):\n",
    "        total.append(0)\n",
    "    else:\n",
    "        total.append(m1+m2+m3)\n",
    "    i+=1\n",
    "i=1\n",
    "print(\"\\n\\tRoll No.\\tDSA\\tOOP\\tWT\\tTotal\")\n",
    "while i<10:\n",
    "    print(f\"\\t{roll[i]}\\t\\t{DSA[i]}\\t{OOP[i]}\\t{WT[i]}\\t{total[i]}\")\n",
    "    i+=1"
   ]
  },
  {
   "cell_type": "code",
   "execution_count": null,
   "id": "6505b2da",
   "metadata": {},
   "outputs": [],
   "source": [
    "#5. Write a program to input a number and count the digits in it. \n",
    "# Use while loop and the program should work correctly for 0 also. \n",
    "num =int(input(\"Enter a number:\"))\n",
    "count = 0\n",
    "\n",
    "while num != 0:\n",
    "    num //= 10\n",
    "    count += 1\n",
    "\n",
    "print(\"Number of digits: \" + str(count))"
   ]
  },
  {
   "cell_type": "code",
   "execution_count": null,
   "id": "417ad368",
   "metadata": {},
   "outputs": [],
   "source": [
    "#6. Write a program to enter a number and find the reverse of that number. Also display the double of the reverse number. \n",
    "# (don’t use string magic) \n",
    "num = int(input(\"Enter a number:\"))\n",
    "reversed_num = 0\n",
    "\n",
    "while num != 0:\n",
    "    digit = num % 10\n",
    "    reversed_num = reversed_num * 10 + digit\n",
    "    num //= 10\n",
    "\n",
    "print(\"Reversed Number: \" + str(reversed_num))\n",
    "print(\"Doubled of the reverse number:\",reversed_num*2)"
   ]
  },
  {
   "cell_type": "code",
   "execution_count": null,
   "id": "b6eefb6d",
   "metadata": {},
   "outputs": [],
   "source": []
  }
 ],
 "metadata": {
  "kernelspec": {
   "display_name": "Python 3 (ipykernel)",
   "language": "python",
   "name": "python3"
  },
  "language_info": {
   "codemirror_mode": {
    "name": "ipython",
    "version": 3
   },
   "file_extension": ".py",
   "mimetype": "text/x-python",
   "name": "python",
   "nbconvert_exporter": "python",
   "pygments_lexer": "ipython3",
   "version": "3.10.6"
  }
 },
 "nbformat": 4,
 "nbformat_minor": 5
}
