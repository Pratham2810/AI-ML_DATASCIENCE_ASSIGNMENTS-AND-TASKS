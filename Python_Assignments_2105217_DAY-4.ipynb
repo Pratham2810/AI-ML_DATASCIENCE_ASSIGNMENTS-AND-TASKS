{
 "cells": [
  {
   "cell_type": "code",
   "execution_count": 1,
   "id": "c1fc778c",
   "metadata": {},
   "outputs": [
    {
     "name": "stdout",
     "output_type": "stream",
     "text": [
      "Help on method_descriptor:\n",
      "\n",
      "split(self, /, sep=None, maxsplit=-1)\n",
      "    Return a list of the substrings in the string, using sep as the separator string.\n",
      "    \n",
      "      sep\n",
      "        The separator used to split the string.\n",
      "    \n",
      "        When set to None (the default value), will split on any whitespace\n",
      "        character (including \\\\n \\\\r \\\\t \\\\f and spaces) and will discard\n",
      "        empty strings from the result.\n",
      "      maxsplit\n",
      "        Maximum number of splits (starting from the left).\n",
      "        -1 (the default value) means no limit.\n",
      "    \n",
      "    Note, str.split() is mainly useful for data that has been intentionally\n",
      "    delimited.  With natural text that includes punctuation, consider using\n",
      "    the regular expression module.\n",
      "\n",
      "\n",
      "----------------\n",
      "\n",
      "Help on method_descriptor:\n",
      "\n",
      "strip(self, chars=None, /)\n",
      "    Return a copy of the string with leading and trailing whitespace removed.\n",
      "    \n",
      "    If chars is given and not None, remove characters in chars instead.\n",
      "\n",
      "\n",
      "----------------\n",
      "\n",
      "Help on method_descriptor:\n",
      "\n",
      "replace(self, old, new, count=-1, /)\n",
      "    Return a copy with all occurrences of substring old replaced by new.\n",
      "    \n",
      "      count\n",
      "        Maximum number of occurrences to replace.\n",
      "        -1 (the default value) means replace all occurrences.\n",
      "    \n",
      "    If the optional argument count is given, only the first count occurrences are\n",
      "    replaced.\n",
      "\n",
      "\n",
      "----------------\n",
      "\n",
      "Help on method_descriptor:\n",
      "\n",
      "center(self, width, fillchar=' ', /)\n",
      "    Return a centered string of length width.\n",
      "    \n",
      "    Padding is done using the specified fill character (default is a space).\n",
      "\n",
      "\n",
      "----------------\n",
      "\n",
      "Help on method_descriptor:\n",
      "\n",
      "title(self, /)\n",
      "    Return a version of the string where each word is titlecased.\n",
      "    \n",
      "    More specifically, words start with uppercased characters and all remaining\n",
      "    cased characters have lower case.\n",
      "\n"
     ]
    }
   ],
   "source": [
    "#  Q-1. Explore split, strip, replace, center, title methods of string data type in python\n",
    "\n",
    "help(str.split)\n",
    "print(\"\\n----------------\\n\")\n",
    "help(str.strip)\n",
    "print(\"\\n----------------\\n\")\n",
    "help(str.replace)\n",
    "print(\"\\n----------------\\n\")\n",
    "help(str.center)\n",
    "print(\"\\n----------------\\n\")\n",
    "help(str.title)\n"
   ]
  },
  {
   "cell_type": "code",
   "execution_count": 2,
   "id": "a97ddf87",
   "metadata": {},
   "outputs": [
    {
     "name": "stdout",
     "output_type": "stream",
     "text": [
      "['apple', 'banana', 'orange', 'mango']\n",
      "3\n",
      "[1, 2, 4, 5]\n",
      "['apple', 'orange', 'banana']\n",
      "[1, 2, 3, 4, 5]\n"
     ]
    }
   ],
   "source": [
    "# Q-2\n",
    "\n",
    "# append: This method is used to add an element to the end of a list. It takes one argument, which is the element to be appended. The original list is modified.\n",
    "\n",
    "fruits = ['apple', 'banana', 'orange']\n",
    "fruits.append('mango')\n",
    "print(fruits)  # Output: ['apple', 'banana', 'orange', 'mango']\n",
    "\n",
    "\n",
    "# pop: This method is used to remove and return an element from a specific index in the list. If no index is provided, it removes and returns the last element. The original list is modified.\n",
    "\n",
    "numbers = [1, 2, 3, 4, 5]\n",
    "removed_element = numbers.pop(2)\n",
    "print(removed_element)  # Output: 3\n",
    "print(numbers)  # Output: [1, 2, 4, 5]\n",
    "\n",
    "\n",
    "\n",
    "# remove: This method is used to remove the first occurrence of a specified element from the list. If the element is not found, it raises a ValueError. The original list is modified.\n",
    "fruits = ['apple', 'banana', 'orange', 'banana']\n",
    "fruits.remove('banana')\n",
    "print(fruits)  # Output: ['apple', 'orange', 'banana']\n",
    "\n",
    "\n",
    "\n",
    "# sort: This method is used to sort the elements of a list in ascending order. If the list contains elements of different data types, it raises a TypeError. The original list is modified.\n",
    "numbers = [3, 1, 4, 2, 5]\n",
    "numbers.sort()\n",
    "print(numbers)  # Output: [1, 2, 3, 4, 5]"
   ]
  },
  {
   "cell_type": "code",
   "execution_count": 3,
   "id": "64824b52",
   "metadata": {},
   "outputs": [],
   "source": [
    "#  Q-3\n",
    "\n",
    "# List of programming languages\n",
    "languages = ['Java', 'C', 'C++', 'Ruby', 'Python']\n",
    "\n",
    "# List of countries\n",
    "countries = ['USA', 'Canada', 'LAS VEGAS : )', 'Germany', 'Australia']\n",
    "\n",
    "# List of fruits\n",
    "fruits = ['Apple', 'Banana', 'Orange', 'Mango', 'Grapes']\n",
    "\n",
    "# List of car brands\n",
    "car_brands = ['McLaren', 'Mustang', 'Ford', 'BMW', 'Mercedes']\n",
    "\n",
    "# List of movie genres\n",
    "genres = ['Action', 'Comedy', 'Drama', 'Horror', 'Sci-Fi']"
   ]
  },
  {
   "cell_type": "code",
   "execution_count": 4,
   "id": "614554c5",
   "metadata": {},
   "outputs": [],
   "source": [
    "#  Q-4\n",
    "\n",
    "# Difference between mutable and immutable data types in Python:\n",
    "\n",
    "# Mutable data types are those that can be modified after they are created. Any changes made to the object will directly affect the original object. In Python, lists and dictionaries are examples of mutable data types.\n",
    "\n",
    "# Immutable data types, on the other hand, cannot be modified once they are created. If any change is made to the object, a new object is created with the modified value. Examples of immutable data types in Python include strings, numbers (integers, floats), and tuples.\n",
    "\n",
    "# In summary, mutable data types allow in-place modifications, while immutable data types do not allow modifications and require "
   ]
  },
  {
   "cell_type": "code",
   "execution_count": 5,
   "id": "d3820813",
   "metadata": {},
   "outputs": [],
   "source": [
    "#  Q-5\n",
    "\n",
    "\n",
    "# Identifiers and the rules of identifiers in Python:\n",
    "\n",
    "# In Python, an identifier is a name used to identify variables, functions, classes, modules, or other objects. It can be composed of letters (lowercase and uppercase), digits, and underscore (_), with some rules to follow:\n",
    "\n",
    "# The first character of an identifier must be a letter or an underscore.\n",
    "# The remaining characters can be letters, digits, or underscores.\n",
    "# Identifiers are case-sensitive"
   ]
  },
  {
   "cell_type": "code",
   "execution_count": null,
   "id": "5278b2f5",
   "metadata": {},
   "outputs": [],
   "source": []
  }
 ],
 "metadata": {
  "kernelspec": {
   "display_name": "Python 3 (ipykernel)",
   "language": "python",
   "name": "python3"
  },
  "language_info": {
   "codemirror_mode": {
    "name": "ipython",
    "version": 3
   },
   "file_extension": ".py",
   "mimetype": "text/x-python",
   "name": "python",
   "nbconvert_exporter": "python",
   "pygments_lexer": "ipython3",
   "version": "3.10.6"
  }
 },
 "nbformat": 4,
 "nbformat_minor": 5
}
